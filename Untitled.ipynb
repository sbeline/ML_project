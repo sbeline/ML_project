{
 "cells": [
  {
   "cell_type": "code",
   "execution_count": 63,
   "metadata": {
    "collapsed": false
   },
   "outputs": [],
   "source": [
    "import numpy as np\n",
    "import math\n",
    "import matplotlib.pyplot as plt"
   ]
  },
  {
   "cell_type": "code",
   "execution_count": 253,
   "metadata": {
    "collapsed": false
   },
   "outputs": [],
   "source": [
    "def cost_function(x,y,theta):\n",
    "    return np.sum(np.power(x.dot(theta) - y,2)) * 1 / (2*y.size)\n"
   ]
  },
  {
   "cell_type": "code",
   "execution_count": 278,
   "metadata": {
    "collapsed": false
   },
   "outputs": [],
   "source": [
    "def gradientDescent(x,y,theta,alpha, num_iter):\n",
    "    x_transpos = x.transpose()\n",
    "    j_hst = theta.T\n",
    "    print(j_hst)\n",
    "    for i in range(0, num_iter):\n",
    "        gradient = np.dot(x_transpos, np.dot(x, theta) - y) / y.size\n",
    "        theta = theta - alpha * gradient\n",
    "        j_hst = np.concatenate((j_hst, theta.T), axis=0)\n",
    "    return (j_hst, theta)\n",
    "    \n",
    "    "
   ]
  },
  {
   "cell_type": "code",
   "execution_count": 279,
   "metadata": {
    "collapsed": false
   },
   "outputs": [],
   "source": [
    "data = np.loadtxt(\"ex1data1.txt\", dtype=float, delimiter=',')\n",
    "X = data[:,:1]\n",
    "y = data[:,1:]\n",
    "X = np.concatenate((np.ones((X.size,1)),X),axis=1)\n",
    "theta = np.zeros((2,1))"
   ]
  },
  {
   "cell_type": "code",
   "execution_count": 280,
   "metadata": {
    "collapsed": false
   },
   "outputs": [
    {
     "name": "stdout",
     "output_type": "stream",
     "text": [
      "32.0727338775\n"
     ]
    }
   ],
   "source": [
    "value = cost_function(X,y,theta)\n",
    "print(value)\n",
    "iterations = 1500\n",
    "alpha = 0.01"
   ]
  },
  {
   "cell_type": "code",
   "execution_count": 300,
   "metadata": {
    "collapsed": false
   },
   "outputs": [
    {
     "name": "stdout",
     "output_type": "stream",
     "text": [
      "[[-3.63029144  1.16636235]]\n"
     ]
    },
    {
     "data": {
      "image/png": "[encoded data removed]",
      "text/plain": [
       "<matplotlib.figure.Figure at 0x10ec4f8d0>"
      ]
     },
     "metadata": {},
     "output_type": "display_data"
    },
    {
     "name": "stdout",
     "output_type": "stream",
     "text": [
      "[[-3.63029144  1.16636235]\n",
      " [-3.63077001  1.16641043]\n",
      " [-3.63124772  1.16645842]\n",
      " ..., \n",
      " [-3.87798708  1.19124606]\n",
      " [-3.87801916  1.19124929]\n",
      " [-3.87805118  1.1912525 ]]\n"
     ]
    }
   ],
   "source": [
    "j_hst, theta = gradientDescent(X,y,theta,alpha,iterations)\n",
    "plt.plot(data[:,:1], data[:,1:],'r*')\n",
    "plt.plot(data[:,:1], theta[0] + theta[1] * data[:,:1], \"-\")\n",
    "plt.show()\n",
    "print(j_hst)"
   ]
  },
  {
   "cell_type": "code",
   "execution_count": 303,
   "metadata": {
    "collapsed": false
   },
   "outputs": [
    {
     "data": {
      "image/png": "[encoded data removed]",
      "text/plain": [
       "<matplotlib.figure.Figure at 0x10eb37470>"
      ]
     },
     "metadata": {},
     "output_type": "display_data"
    }
   ],
   "source": [
    "theta0_vals = np.linspace(-10, 10, 100)\n",
    "theta1_vals = np.linspace(-10, 10, 100)\n",
    "plt.plot(theta0_vals,theta1_vals,j_hst, 'r-')\n",
    "plt.show()"
   ]
  },
  {
   "cell_type": "code",
   "execution_count": null,
   "metadata": {
    "collapsed": true
   },
   "outputs": [],
   "source": []
  },
  {
   "cell_type": "code",
   "execution_count": null,
   "metadata": {
    "collapsed": true
   },
   "outputs": [],
   "source": []
  }
 ],
 "metadata": {
  "kernelspec": {
   "display_name": "Python 3",
   "language": "python",
   "name": "python3"
  },
  "language_info": {
   "codemirror_mode": {
    "name": "ipython",
    "version": 3
   },
   "file_extension": ".py",
   "mimetype": "text/x-python",
   "name": "python",
   "nbconvert_exporter": "python",
   "pygments_lexer": "ipython3",
   "version": "3.6.0"
  }
 },
 "nbformat": 4,
 "nbformat_minor": 2
}
